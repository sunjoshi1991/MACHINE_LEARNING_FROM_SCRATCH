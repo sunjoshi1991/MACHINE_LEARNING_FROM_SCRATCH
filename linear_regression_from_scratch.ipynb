{
 "cells": [
  {
   "cell_type": "code",
   "execution_count": 5,
   "metadata": {},
   "outputs": [
    {
     "name": "stdout",
     "output_type": "stream",
     "text": [
      "nan\n"
     ]
    },
    {
     "name": "stderr",
     "output_type": "stream",
     "text": [
      "/usr/local/lib/python3.7/site-packages/ipykernel_launcher.py:32: RuntimeWarning: invalid value encountered in double_scalars\n"
     ]
    }
   ],
   "source": [
    "#### building our own regression model###\n",
    "from statistics import mean\n",
    "import numpy as np\n",
    "import matplotlib.pyplot as plt\n",
    "import random\n",
    "from matplotlib import style\n",
    "style.use('fivethirtyeight')\n",
    "\n",
    "xs = np.array([1,2,3,4,5,6],dtype =np.float64)\n",
    "ys = np.array([5,4,6,5,6,7],dtype = np.float64)\n",
    "#plt.scatter(xs,ys)\n",
    "#plt.show()\n",
    "\n",
    "### the function takes x and y values and \n",
    "## returns slope(m), y-intercept using math formula \n",
    "\n",
    "def create_dataset(hm,var , step = 2, correlation = False):\n",
    "    val = 1\n",
    "    ys = []\n",
    "    for i in range(hm):\n",
    "        y = val+random.randrange(-var,var)\n",
    "        ys.append(y)\n",
    "        if correlation and correlation == 'pos':\n",
    "            val+=step\n",
    "        elif correlation and correlation == 'neg':\n",
    "            val -= step\n",
    "        xs = [i for i in range(len(ys))]\n",
    "        return np.array(xs,dtype = np.float64) , np.array(ys,dtype = np.float64)\n",
    "    \n",
    "def best_fit_slope_and_intercept(xs,ys):\n",
    "    m = (((mean(xs)*mean(ys)-mean(xs*ys))/\n",
    "          (mean(xs))**2- mean((xs)**2)))\n",
    "    b = mean(ys)- m*mean(xs)\n",
    "    return m,b\n",
    "\n",
    "def squred_error(ys_origi , ys_line):\n",
    "    return sum((ys_line-ys_origi)**2)\n",
    "\n",
    "def coeff_of_deter(ys_origi,ys_line):\n",
    "    y_mean_line = [mean(ys_origi)for y in ys_origi]\n",
    "    sqr_error_regr =squred_error(ys_origi,ys_line)\n",
    "    sqred_error_y_mean = squred_error(ys_origi,y_mean_line)\n",
    "    return 1-(sqr_error_regr/sqred_error_y_mean)\n",
    "\n",
    "\n",
    "xs ,ys = create_dataset(40,40,2,correlation = 'pos')\n",
    "         \n",
    "m,b = best_fit_slope_and_intercept(xs,ys)\n",
    "#print(m,b)\n",
    "\n",
    "regression_line = [(m*x)+b for x in xs]\n",
    "predict_x = 8\n",
    "predict_y = (m*predict_x +b)\n",
    "r_sqred = coeff_of_deter(ys,regression_line)\n",
    "print(r_sqred)\n",
    "#print(regression_line)\n",
    "\n",
    "# plt.scatter(xs,ys)\n",
    "# plt.scatter(predict_x,predict_y,color = 'g')\n",
    "# plt.plot(xs, regression_line)\n",
    "# plt.show()"
   ]
  },
  {
   "cell_type": "code",
   "execution_count": null,
   "metadata": {},
   "outputs": [],
   "source": []
  }
 ],
 "metadata": {
  "kernelspec": {
   "display_name": "Python 3",
   "language": "python",
   "name": "python3"
  },
  "language_info": {
   "codemirror_mode": {
    "name": "ipython",
    "version": 3
   },
   "file_extension": ".py",
   "mimetype": "text/x-python",
   "name": "python",
   "nbconvert_exporter": "python",
   "pygments_lexer": "ipython3",
   "version": "3.7.2"
  }
 },
 "nbformat": 4,
 "nbformat_minor": 2
}
