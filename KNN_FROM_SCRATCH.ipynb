{
 "cells": [
  {
   "cell_type": "code",
   "execution_count": 2,
   "metadata": {},
   "outputs": [
    {
     "name": "stdout",
     "output_type": "stream",
     "text": [
      "[('r', 3)]\n",
      "r\n"
     ]
    },
    {
     "data": {
      "image/png": "[encoded data removed]",
      "text/plain": [
       "<Figure size 432x288 with 1 Axes>"
      ]
     },
     "metadata": {},
     "output_type": "display_data"
    }
   ],
   "source": [
    "import numpy as np\n",
    "import matplotlib\n",
    "from math import sqrt\n",
    "import warnings\n",
    "\n",
    "\n",
    "import matplotlib.pyplot as plt\n",
    "from matplotlib import style \n",
    "from collections import Counter\n",
    "\n",
    "style.use('fivethirtyeight')\n",
    "\n",
    "dataset = {'k':[[1,2],[2,3],[3,1]],'r':[[6,5],[7,7],[8,6]]}\n",
    "\n",
    "new_features = [5,7]\n",
    "\n",
    "\n",
    "\n",
    "def k_nearest_neighbors(data,predict,k=3):\n",
    "    if len(data)>=k:\n",
    "        warnings.warn('k is less than voting grp')\n",
    "    distances = []\n",
    "    for grp in data:\n",
    "        for features in data[grp]:\n",
    "            euclidean_dis = np.linalg.norm(np.array(features)-np.array(predict))\n",
    "            distances.append([euclidean_dis,grp])\n",
    "    votes = [i[1] for i in sorted(distances)[:k]]\n",
    "    print(Counter(votes).most_common(1))\n",
    "    vote_results = Counter(votes).most_common(1)[0][0]\n",
    "            \n",
    "            \n",
    "    return vote_results\n",
    "\n",
    "results = k_nearest_neighbors(dataset,new_features,k = 3)\n",
    "\n",
    "print(results)\n",
    "\n",
    "[[plt.scatter(ii[0],ii[1],s =100,color = i) for ii in dataset[i]] for i in dataset]\n",
    "\n",
    "plt.scatter(new_features[0],new_features[1],color = results)\n",
    "\n",
    "plt.show()\n",
    "\n"
   ]
  },
  {
   "cell_type": "code",
   "execution_count": null,
   "metadata": {},
   "outputs": [],
   "source": []
  }
 ],
 "metadata": {
  "kernelspec": {
   "display_name": "Python 3",
   "language": "python",
   "name": "python3"
  },
  "language_info": {
   "codemirror_mode": {
    "name": "ipython",
    "version": 3
   },
   "file_extension": ".py",
   "mimetype": "text/x-python",
   "name": "python",
   "nbconvert_exporter": "python",
   "pygments_lexer": "ipython3",
   "version": "3.7.2"
  }
 },
 "nbformat": 4,
 "nbformat_minor": 2
}
